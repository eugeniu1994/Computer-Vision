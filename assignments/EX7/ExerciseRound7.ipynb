{
 "cells": [
  {
   "cell_type": "code",
   "execution_count": 2,
   "metadata": {},
   "outputs": [
    {
     "data": {
      "text/html": [
       "<script>\n",
       "code_show=true;\n",
       "function code_toggle() {\n",
       "if (code_show){\n",
       "$('div.input').hide();\n",
       "} else {\n",
       "$('div.input').show();\n",
       "}\n",
       "code_show = !code_show\n",
       "}\n",
       "$( document ).ready(code_toggle);\n",
       "</script>\n",
       "<form action=\"javascript:code_toggle()\"><input type=\"submit\" value=\"Click here to toggle on/off the raw code.\"></form>"
      ],
      "text/plain": [
       "<IPython.core.display.HTML object>"
      ]
     },
     "execution_count": 2,
     "metadata": {},
     "output_type": "execute_result"
    }
   ],
   "source": [
    "# This cell is used for creating a button that hides/unhides code cells to quickly look only the results.\n",
    "# Works only with Jupyter Notebooks.\n",
    "\n",
    "import os\n",
    "from IPython.display import HTML\n",
    "\n",
    "HTML('''<script>\n",
    "code_show=true;\n",
    "function code_toggle() {\n",
    "if (code_show){\n",
    "$('div.input').hide();\n",
    "} else {\n",
    "$('div.input').show();\n",
    "}\n",
    "code_show = !code_show\n",
    "}\n",
    "$( document ).ready(code_toggle);\n",
    "</script>\n",
    "<form action=\"javascript:code_toggle()\"><input type=\"submit\" value=\"Click here to toggle on/off the raw code.\"></form>''')"
   ]
  },
  {
   "cell_type": "code",
   "execution_count": 94,
   "metadata": {},
   "outputs": [
    {
     "name": "stdout",
     "output_type": "stream",
     "text": [
      "The data directory is /coursedata\n",
      "Data stored in /coursedata/exercise-07-data\n"
     ]
    }
   ],
   "source": [
    "# Description:\n",
    "#   Exercise7 notebook.\n",
    "#\n",
    "# Copyright (C) 2018 Santiago Cortes, Juha Ylioinas\n",
    "#\n",
    "# This software is distributed under the GNU General Public \n",
    "# Licence (version 2 or later); please refer to the file \n",
    "# Licence.txt, included with the software, for details.\n",
    "\n",
    "# Preparations\n",
    "import numpy as np\n",
    "\n",
    "# Select data directory\n",
    "if os.path.isdir('/coursedata'):\n",
    "    # JupyterHub\n",
    "    course_data_dir = '/coursedata'\n",
    "elif os.path.isdir('../../../coursedata'):\n",
    "    # Local installation\n",
    "    course_data_dir = '../../../coursedata'\n",
    "else:\n",
    "    # Docker\n",
    "    course_data_dir = '/home/jovyan/work/coursedata/'\n",
    "\n",
    "print('The data directory is %s' % course_data_dir)\n",
    "data_dir = os.path.join(course_data_dir, 'exercise-07-data')\n",
    "print('Data stored in %s' % data_dir)\n",
    "import matplotlib.pyplot as plt\n",
    "import re\n"
   ]
  },
  {
   "cell_type": "markdown",
   "metadata": {},
   "source": [
    "# CS-E4850 Computer Vision Exercise Round 7\n",
    "## Eugeniu Vezeteu 886240\n",
    "\n",
    "The problems should be solved before the exercise session and solutions returned via\n",
    "MyCourses. <br><br> For this exercise round, upload this notebook(pdf and .ipynb versions) containing your source codes (for Exercise 1) and your answer to the question of Exercise2, and all the answers to the questions of Exercise 3 (VGG practical), see part[1-3].ipynb. Note that it's not necessary to upload part1.ipynb, part2.ipynb or part3.ipynb, because all of the necessary questions related to them are contained in this notebook and you're not expected to do any coding in Exercises 2 and 3."
   ]
  },
  {
   "cell_type": "markdown",
   "metadata": {},
   "source": [
    "## Exercise 1 - Comparing  bags-of-words  with  tf-idf  weighting\n",
    "Assume  that  we  have  an  indexed  collection  of  documents  containing  the  five  terms  of the following table where the second row indicates the percentage of documents in which each term appears.<br>\n",
    "\n",
    "| term | cat | dog |mammals | mouse | pet |\n",
    "| --- | :---: | :---: | :---: | :---: | :---: |\n",
    "| **% of documents** | 5 | 20 | 2 | 10 | 60 |\n",
    "\n",
    "Now, given the query $Q=\\{mouse, cat, pet, mammals\\}$, compute the similarity between $Q$ and the following example documents $D1$, $D2$, $D3$, by using the cosine similarity measure and tf-idf weights (i.e. term frequency - inverse document frequency) for the bag-of-words histogram representations of the documents and the query.\n",
    "\n",
    "-  $D1$ = Cat is a pet, dog is a pet, and mouse may be a pet too.\n",
    "-  $D2$ = Cat, dog and mouse are all mammals.\n",
    "-  $D3$ = Cat and dog get along well, but cat may eat a mouse.\n",
    "\n",
    "Ignore other words except the five terms. You may proceed with the following steps:\n",
    "\n",
    "a) Compute and report the inverse document frequency (idf) for each of the five terms. Use the logarithm with base 2. (idf is the logarithm on slide 69 of Lecture 6.)<br>\n",
    "b) Compute the term frequencies for the query and each document. <br>\n",
    "c) Form the tf-idf weighted word occurrence histograms for the query and documents. <br>\n",
    "d) Evaluate the cosine similarity between the query and each document (i.e.\\ normalized scalar product between the weighted occurrence histograms as shown on slide 45).<br> \n",
    "e) Report the relative ranking of the documents. (You should get similarities 0.95, 0.64, and 0.63, but you need to determine which corresponds to which document.)<br>"
   ]
  },
  {
   "cell_type": "markdown",
   "metadata": {},
   "source": [
    "### a) Compute and report the inverse document frequency (idf) \n",
    "#for each of the five terms. Use the logarithm with base 2.\n",
    "\n",
    "$IDF = np.log_2(\\frac{N}{n_i}) = np.log_2(\\frac{\\textit{Total number of\n",
    "documents in\n",
    "database}}{\\textit{Number of documents\n",
    "word i occurs in, in\n",
    "whole database}})$"
   ]
  },
  {
   "cell_type": "code",
   "execution_count": 102,
   "metadata": {},
   "outputs": [
    {
     "name": "stdout",
     "output_type": "stream",
     "text": [
      "IDF\n"
     ]
    },
    {
     "data": {
      "text/plain": [
       "{'cat': 4.321928094887363,\n",
       " 'dog': 2.321928094887362,\n",
       " 'mammals': 5.643856189774724,\n",
       " 'mouse': 3.321928094887362,\n",
       " 'pet': 0.7369655941662062}"
      ]
     },
     "execution_count": 102,
     "metadata": {},
     "output_type": "execute_result"
    }
   ],
   "source": [
    "data = {'cat':.05,'dog':.2,'mammals':.02, 'mouse':.1, 'pet':.6}\n",
    "N=1\n",
    "\n",
    "IDF = { word:np.log2(N/value) for word, value in data.items()} \n",
    "print('IDF')\n",
    "IDF"
   ]
  },
  {
   "cell_type": "markdown",
   "metadata": {},
   "source": [
    "### b) Compute the term frequencies for the query and each document.\n",
    "\n",
    "$\\textit{term freq} = \\frac{n_{id}}{n_d} = \\frac{\\textit{Number of\n",
    "occurrences of word\n",
    "i in document d }}{Number of words in\n",
    "document d }$"
   ]
  },
  {
   "cell_type": "code",
   "execution_count": 103,
   "metadata": {},
   "outputs": [
    {
     "name": "stdout",
     "output_type": "stream",
     "text": [
      "term frequencies - D1\n",
      "{'too': 0.0667, 'is': 0.1333, 'mouse': 0.0667, 'cat': 0.0667, 'a': 0.2, 'be': 0.0667, 'and': 0.0667, 'dog': 0.0667, 'pet': 0.2, 'may': 0.0667}\n",
      "\n",
      "term frequencies - D2\n",
      "{'mouse': 0.1429, 'cat': 0.1429, 'are': 0.1429, 'and': 0.1429, 'all': 0.1429, 'dog': 0.1429, 'mammals': 0.1429}\n",
      "\n",
      "term frequencies - D3\n",
      "{'mouse': 0.0833, 'cat': 0.1667, 'along': 0.0833, 'a': 0.0833, 'and': 0.0833, 'eat': 0.0833, 'well': 0.0833, 'dog': 0.0833, 'get': 0.0833, 'but': 0.0833, 'may': 0.0833}\n",
      "\n",
      "term frequencies - Q\n",
      "{'mouse': 0.25, 'cat': 0.25, 'pet': 0.25, 'mammals': 0.25}\n",
      "\n"
     ]
    }
   ],
   "source": [
    "D1 = 'Cat is a pet, dog is a pet, and mouse may be a pet too.'\n",
    "D2 = 'Cat, dog and mouse are all mammals.'\n",
    "D3 = 'Cat and dog get along well, but cat may eat a mouse.'\n",
    "Q = 'mouse cat pet mammals'\n",
    "\n",
    "def extract_words(doc): #Ignore other words except the five terms.\n",
    "    s = re.sub(r'[^\\w\\s]','',doc) # remove punctuation\n",
    "    return [i.lower() for i in s.split()]\n",
    "\n",
    "d1=extract_words(D1)\n",
    "d2=extract_words(D2)\n",
    "d3=extract_words(D3)\n",
    "q=extract_words(Q)\n",
    "\n",
    "def _tf(d):\n",
    "    n_d = len(d) #Number of words in document d \n",
    "    tf = {}\n",
    "    for i in set(d):\n",
    "        n_id = 0 #Number of occurrences of word i in document d\n",
    "        for w in d:\n",
    "            if w.lower() == i.lower():\n",
    "                n_id += 1\n",
    "        tf[i] = round(n_id/n_d,4)\n",
    "        \n",
    "    return tf\n",
    "\n",
    "#print('d1 ',d1)\n",
    "print('term frequencies - D1')\n",
    "tf_D1 = _tf(d1)\n",
    "print(tf_D1)\n",
    "print()\n",
    "\n",
    "#print('d2 ',d2)\n",
    "print('term frequencies - D2')\n",
    "tf_D2 = _tf(d2)\n",
    "print(tf_D2)\n",
    "print()\n",
    "\n",
    "#print('d3 ',d3)\n",
    "print('term frequencies - D3')\n",
    "tf_D3 = _tf(d3)\n",
    "print(tf_D3)\n",
    "print()\n",
    "\n",
    "#print('q ',q)\n",
    "print('term frequencies - Q')\n",
    "tf_Q = _tf(q)\n",
    "print(tf_Q)\n",
    "print()\n",
    "\n"
   ]
  },
  {
   "cell_type": "markdown",
   "metadata": {},
   "source": [
    "### c) Form the tf-idf weighted word occurrence histograms for the query and documents.\n",
    "\n",
    "tf-idf\n",
    "$$t_i = \\frac{n_{id}}{n_d} \\log \\frac{N}{n_i}$$\n"
   ]
  },
  {
   "cell_type": "code",
   "execution_count": 100,
   "metadata": {},
   "outputs": [
    {
     "data": {
      "image/png": "[encoded data removed]",
      "text/plain": [
       "<Figure size 1008x864 with 4 Axes>"
      ]
     },
     "metadata": {
      "needs_background": "light"
     },
     "output_type": "display_data"
    }
   ],
   "source": [
    "fig, ax = plt.subplots(figsize=(14,12),ncols=2, nrows=2)\n",
    "tf = [tf_D1, tf_D2, tf_D3, tf_Q]\n",
    "labels = ['D1','D2','D3','Q']\n",
    "tf_idf_data = {}\n",
    "\n",
    "for i in range(len(labels)):\n",
    "    label=labels[i]\n",
    "    tf_i = tf[i]    \n",
    "    tf_idf = {key:0.0 for key in IDF.keys()}\n",
    "    \n",
    "    for word in tf_i.keys():\n",
    "        if word in IDF.keys():\n",
    "            tf_idf[word] = tf_i[word] * IDF[word]\n",
    "    \n",
    "    \n",
    "    tf_idf_data[label] = tf_idf\n",
    "    words = list(tf_idf.keys())\n",
    "    vals = list(tf_idf.values())\n",
    "    \n",
    "    ax[int(i/2),i%2].bar(range(len(tf_idf)),vals,tick_label=words)\n",
    "    ax[int(i/2),i%2].set_title(label)\n",
    "\n",
    "#tf_idf_data"
   ]
  },
  {
   "cell_type": "markdown",
   "metadata": {},
   "source": [
    "### d) Evaluate the cosine similarity between the query and each document\n",
    "$$ sim(d_j,q) = \\frac{<d_j,q>}{||d_j||*||q||} $$"
   ]
  },
  {
   "cell_type": "code",
   "execution_count": 101,
   "metadata": {},
   "outputs": [
    {
     "name": "stdout",
     "output_type": "stream",
     "text": [
      "Cosine sim between doc 1 and Q\n",
      "0.6289067101021564\n",
      "\n",
      "Cosine sim between doc 2 and Q\n",
      "0.9546948111493487\n",
      "\n",
      "Cosine sim between doc 3 and Q\n",
      "0.6431752760562872\n",
      "\n"
     ]
    }
   ],
   "source": [
    "def sim(dj,q):\n",
    "    up = np.sum([dj[word] * q[word] for word in q])\n",
    "    dj_norm = np.sqrt(np.sum([dj[word]**2 for word in dj])) \n",
    "    q_norm = np.sqrt(np.sum([q[word]**2 for word in q]))\n",
    "    \n",
    "    return up / (dj_norm*q_norm)\n",
    "\n",
    "labels = ['D1','D2','D3']\n",
    "for j in range(len(labels)):\n",
    "    label=labels[j]\n",
    "    print('Cosine sim between doc {} and Q'.format(j+1))\n",
    "    s = sim(dj = tf_idf_data['D{}'.format(j+1)],  q=tf_idf_data['Q'])\n",
    "    print(s)\n",
    "    print()\n",
    "\n"
   ]
  },
  {
   "cell_type": "markdown",
   "metadata": {},
   "source": [
    "### e) Report the relative ranking of the documents."
   ]
  },
  {
   "cell_type": "raw",
   "metadata": {},
   "source": [
    "The relative ranking is 0.95(d2) > 0.64(d3) > 0.628(d1)"
   ]
  },
  {
   "cell_type": "markdown",
   "metadata": {},
   "source": [
    "## Exercise 2 - Precision  and  recall\n",
    "There is a database of 10000 images and a user, who is only interested in images which contain a car. It is known that there are 500 such images in the database. An  automatic image retrieval system retrieves 300 car images and 50 other images from the database. Determine and report the precision and recall of the retrieval  system in this particularcase."
   ]
  },
  {
   "cell_type": "markdown",
   "metadata": {},
   "source": [
    "$\n",
    "Precision = \\frac{TP}{TP+FP} = \\frac{300}{300+50} = 0.857 \n",
    "$\n",
    "\n",
    "$\n",
    "Recall = \\frac{TP}{TP+FN} = \\frac{300}{500} = 0.6\n",
    "$\n",
    "\n",
    "\n",
    "\n",
    "\n",
    "\n",
    "\n",
    "\n",
    "\n",
    "\n",
    "\n",
    "\n",
    "\n",
    "\n",
    "\n",
    "\n",
    "\n",
    "\n",
    "\n"
   ]
  },
  {
   "cell_type": "markdown",
   "metadata": {},
   "source": [
    "## Exercise 3 - VGG practical on object instance recognition\n",
    "See the questions in part[1-3].ipynb and write your answers here.\n",
    "\n",
    "Part1:\n",
    "Stage I.A (two questions)\n",
    "Stage I.B (two questions)\n",
    "Stage I.C (one question)\n",
    "\n",
    "Part2 (one question)\n",
    "\n",
    "Part3:\n",
    "Stage III.A (three questions)\n",
    "Stage III.B (one question)\n",
    "Stage III.C (two questions)"
   ]
  },
  {
   "cell_type": "markdown",
   "metadata": {},
   "source": [
    "Type your answers here: \n",
    "\n",
    "PART1: \n",
    "StageI.A\n",
    "\n",
    "1)In the second image, we have a shadow on the left side of the building, and the right side is illuminated brighter by the sun's rays. To identify Key features we used SIFT detector, which are the minimums and maximums between the result of applying the gauss filter on the images, It will not be a high problem for matching, because main features are quite clear (corner, edges of the building). To avoid this we can modify the KD tree algorithm, to identify the nearest neighbour with a limited number of features.\n",
    "\n",
    "2)This problem occurs when the image structure is non-planar.Determining the orientation can be ambiguous, In this case, SIFT will return a list of up to four possible orientations, building up to four frames for each detected image blob.\n",
    "\n",
    "Stage I.B\n",
    "\n",
    "1)Descriptors are calculated over a larger region because the orientation histogram is calculated from the orientation and magnitude of 16x16 regions around the key point, so that each histogram has samples from the 4x4 region.\n",
    "\n",
    "2)The mismatch appear due to high dimensions of the features. Changing the light is not a problem, because SIFT is generally robust to noise. To remove the mismatch, we can apply the modified version of the KD tree, to find the best bin first search or by introducing the second nearest neighbour test (Improving SIFT matching using Lowe’s)\n",
    "\n",
    "Stage I.C\n",
    "\n",
    "1)There are still remaining mismatches\n",
    " because, Lowe rejected all matches where the distance ratio is greater than 0.8,  eliminating 90% of false matches while throwing less than 5% of correct matches. We can use a modified version of RANSAC algorithm to clean the matching from the previous result.\n",
    "\n",
    "\n",
    "Part2\n",
    "\n",
    "1)------------------------------------\n",
    "\n",
    "\n",
    "Part3: Stage III.A \n",
    "\n",
    "1)A smaller number of clusters is decreasing the difficulty of computing the transformation, while at the same time the number of inliers has a small reduction.\n",
    "\n",
    "2)The conversion of the descriptions into visual words can be precomputed, so it's not an accounted as a query time.\n",
    "\n",
    "3)-------------------------------------\n",
    "\n",
    "\n",
    "Part3: Stage III.B\n",
    "\n",
    "1)Because the same images were used for modelling the database and for query, (The query image is top image) \n",
    "\n",
    "\n",
    "Part3: Stage III.C\n",
    "\n",
    "1)The top score much larger than 1, because it is computed as the number of inlier words\n",
    "\n",
    "2)The retrieval results improved after geometric verification because the irrelevant images have lower score\n"
   ]
  },
  {
   "cell_type": "code",
   "execution_count": null,
   "metadata": {},
   "outputs": [],
   "source": []
  }
 ],
 "metadata": {
  "kernelspec": {
   "display_name": "Python 3",
   "language": "python",
   "name": "python3"
  },
  "language_info": {
   "codemirror_mode": {
    "name": "ipython",
    "version": 3
   },
   "file_extension": ".py",
   "mimetype": "text/x-python",
   "name": "python",
   "nbconvert_exporter": "python",
   "pygments_lexer": "ipython3",
   "version": "3.6.9"
  },
  "varInspector": {
   "cols": {
    "lenName": 16,
    "lenType": 16,
    "lenVar": 40
   },
   "kernels_config": {
    "python": {
     "delete_cmd_postfix": "",
     "delete_cmd_prefix": "del ",
     "library": "var_list.py",
     "varRefreshCmd": "print(var_dic_list())"
    },
    "r": {
     "delete_cmd_postfix": ") ",
     "delete_cmd_prefix": "rm(",
     "library": "var_list.r",
     "varRefreshCmd": "cat(var_dic_list()) "
    }
   },
   "types_to_exclude": [
    "module",
    "function",
    "builtin_function_or_method",
    "instance",
    "_Feature"
   ],
   "window_display": false
  }
 },
 "nbformat": 4,
 "nbformat_minor": 4
}
